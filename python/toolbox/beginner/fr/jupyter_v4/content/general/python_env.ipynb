{
 "cells": [
  {
   "cell_type": "markdown",
   "metadata": {},
   "source": [
    "Installer Python 3\n",
    "==================\n",
    "\n",
    "Pyzo\n",
    "----\n",
    "\n",
    "Les contraintes matérielles liées aux réseaux dans les lycées français font que l'usage de [Pyzo](http://www.pyzo.org/) semble le choix le plus simple *(Anaconda aurait été un choix intéressant pour des ordinateurs Linux en réseau)*.\n",
    "Pyzo propose un environnement capable d'interpréter les programmes écrits en Python en utilisant éventuellement un ensemble de bibliothèques intéressantes proposées par défaut.\n",
    "Pyzo s'accompagne de IEP un éditeur de codes très correct, et aussi de IPython qui permet de rédiger efficacement des documents \"interactifs\" contenant des codes Python."
   ]
  },
  {
   "cell_type": "markdown",
   "metadata": {},
   "source": [
    "IPython\n",
    "-------\n",
    "\n",
    "Dans sa version IPython via un navigateur, le document que vous lisez permet de proposer des documents contenant des codes modifiables comme dans l'exemple suivant."
   ]
  },
  {
   "cell_type": "code",
   "execution_count": 1,
   "metadata": {
    "collapsed": false
   },
   "outputs": [
    {
     "name": "stdout",
     "output_type": "stream",
     "text": [
      "Mon nom : Personne\n"
     ]
    }
   ],
   "source": [
    "# Quand IPython est lancé en tant qu'application web locale dans\n",
    "# un navigateur web pour ouvrir ce document, il est alors possible\n",
    "# de changer ci-dessous les lignes de codes.\n",
    "#\n",
    "# Par exemple, il est alors possible de changer le texte entre les\n",
    "# guillemets, puis en cliquant sur le triangle \"Play\" en haut de\n",
    "# la page, ou bien en utilisant le raccourci clavier CTRL + ENTREE,\n",
    "# on peut constater l'effet des modifications apportées.\n",
    "mon_nom = \"Personne\"\n",
    "\n",
    "print(\"Mon nom :\", mon_nom)"
   ]
  }
 ],
 "metadata": {
  "kernelspec": {
   "display_name": "Python 3",
   "language": "python",
   "name": "python3"
  },
  "language_info": {
   "codemirror_mode": {
    "name": "ipython",
    "version": 3
   },
   "file_extension": ".py",
   "mimetype": "text/x-python",
   "name": "python",
   "nbconvert_exporter": "python",
   "pygments_lexer": "ipython3",
   "version": "3.4.3"
  }
 },
 "nbformat": 4,
 "nbformat_minor": 0
}
