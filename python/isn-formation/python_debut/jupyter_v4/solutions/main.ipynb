{
 "cells": [
  {
   "cell_type": "markdown",
   "metadata": {},
   "source": [
    "Premiers pas avec Python - Des solutions possibles\n",
    "==================================================\n",
    "\n",
    "> **Version du 2015-10-25**\n",
    "\n",
    "\n",
    "Nous ne proposons que des solutions possibles et non les seules solutions possibles. Toute contribution est la bienvenue. \n",
    "\n",
    "\n",
    "**Note :** sauf mention contraire, les solutions proposées sont dans des cellules autonomes, autrement dit elles n'utilisent pas des codes présents dans des cellules exécutées précédemment par IPython.\n",
    "\n",
    "\n",
    "Licence\n",
    "-------\n",
    "\n",
    "Ce document est mis à disposition selon les termes de la licence Creative Commons\n",
    "« Attribution - Pas d’utilisation commerciale - Partage dans les mêmes conditions 4.0\n",
    "International » .\n",
    "\n",
    "<div style=\"text-align: center; margin-top:10px;\">\n",
    "    <img src=\"by-nc-sa.svg\">\n",
    "</div>\n",
    "\n",
    "Différents formats de ce document sont disponibles sur github à l'adresse [https://github.com/bc-writings-prog-python/isn-formation](https://github.com/bc-writings-prog-python/isn-formation).\n",
    "Voir le dossier `python_debut`.\n",
    "\n",
    "\n",
    "Le jour de la formation \n",
    "-----------------------\n",
    "\n",
    "1. [Un pendu pour se rassurer](content/pendu.ipynb)\n",
    "1. [Codes correcteurs](content/code_correcteur.ipynb)  \n",
    "1. [Palindromes](content/palindrome.ipynb)             \n",
    "1. [Chiffrement de César](content/cesar.ipynb)         \n",
    "1. [Soundex](content/soundex.ipynb)\n",
    "\n",
    "\n",
    "Pour continuer à progresser \n",
    "---------------------------\n",
    "\n",
    "1. [Carré de Polybe](content/polybe.ipynb)\n",
    "1. [Chiffrement de Vigenère](content/vigenere.ipynb)"
   ]
  }
 ],
 "metadata": {
  "kernelspec": {
   "display_name": "Python [default]",
   "language": "python",
   "name": "python3"
  },
  "language_info": {
   "codemirror_mode": {
    "name": "ipython",
    "version": 3
   },
   "file_extension": ".py",
   "mimetype": "text/x-python",
   "name": "python",
   "nbconvert_exporter": "python",
   "pygments_lexer": "ipython3",
   "version": "3.5.2"
  }
 },
 "nbformat": 4,
 "nbformat_minor": 0
}
