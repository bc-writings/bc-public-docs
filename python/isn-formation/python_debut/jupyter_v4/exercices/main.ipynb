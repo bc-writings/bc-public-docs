{
 "cells": [
  {
   "cell_type": "markdown",
   "metadata": {},
   "source": [
    "Premiers pas avec Python\n",
    "========================\n",
    "\n",
    "> **Version du 2015-10-25**\n",
    "\n",
    "Comme nous ne pourrons pas apprendre à programmer avec Python en 3 heures et demi, nous allons juste commencer par aborder quelques concepts de base autour des chaînes de caractères, et de façon cachée autour de l'échange de données.\n",
    "\n",
    "Dans chaque section, **ce que nous attendons de vous c'est de faire les rubriques du type *\"À vous de jouer\"* ** qui contiennent des exercices relativement simples, tandis que **celles du type *\"Pour les plus rapides\"* ne seront pas abordées en formation**, sauf si le temps nous le permet, car elles contiennent des questions demandant un peu plus d'engagement.\n",
    "\n",
    "\n",
    "**Note :** nous mettrons en ligne des solutions classiques de tous les exercices avec en plus des solutions astucieuses s'appuyant sur quelques concepts avancés de Python. \n",
    "\n",
    "\n",
    "\n",
    "Licence\n",
    "-------\n",
    "\n",
    "Ce document est mis à disposition selon les termes de la licence Creative Commons\n",
    "« Attribution - Pas d’utilisation commerciale - Partage dans les mêmes conditions 4.0\n",
    "International » .\n",
    "\n",
    "<div style=\"text-align: center; margin-top:10px;\">\n",
    "    <img src=\"by-nc-sa.svg\">\n",
    "</div>\n",
    "\n",
    "Différents formats de ce document sont disponibles sur github à l'adresse [https://github.com/bc-writings-prog-python/isn-formation](https://github.com/bc-writings-prog-python/isn-formation).\n",
    "Voir le dossier `python_debut`.\n",
    "\n",
    "\n",
    "Le jour de la formation \n",
    "-----------------------\n",
    "\n",
    "1. [Un pendu pour se rassurer](content/pendu.ipynb)    *(20 min : traduire des algorithmes)*\n",
    "1. [Codes correcteurs](content/code_correcteur.ipynb)  *(30 min : liste)*\n",
    "1. [Palindromes](content/palindrome.ipynb)             *(30 min : texte et fichier)*\n",
    "1. [Chiffrement de César](content/cesar.ipynb)         *(60 min : texte, liste, fichier, fonction et module)*\n",
    "1. [Soundex](content/soundex.ipynb)                    *(40 min : texte, liste ou dictionnaire, et fichier)*\n",
    "\n",
    "\n",
    "Pour continuer à progresser \n",
    "---------------------------\n",
    "\n",
    "1. [Carré de Polybe](content/polybe.ipynb)             *(texte et liste ou dictionnaire de dimension 2)*\n",
    "1. [Chiffrement de Vigenère](content/vigenere.ipynb)   *(texte et liste ou dictionnaire de dimension 2)*"
   ]
  }
 ],
 "metadata": {
  "kernelspec": {
   "display_name": "Python 3",
   "language": "python",
   "name": "python3"
  },
  "language_info": {
   "codemirror_mode": {
    "name": "ipython",
    "version": 3
   },
   "file_extension": ".py",
   "mimetype": "text/x-python",
   "name": "python",
   "nbconvert_exporter": "python",
   "pygments_lexer": "ipython3",
   "version": "3.4.3"
  }
 },
 "nbformat": 4,
 "nbformat_minor": 0
}
