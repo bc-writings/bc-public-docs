{
 "cells": [
  {
   "cell_type": "markdown",
   "metadata": {
    "collapsed": true
   },
   "source": [
    "Chiffrement de César\n",
    "===========\n",
    "\n",
    "Réouvrir la page principale\n",
    "--------------------------\n",
    "\n",
    "[Cliquer ici](../main.ipynb)\n",
    "\n",
    "\n",
    "\n",
    "Présentation de ce chiffrement\n",
    "----------------------------\n",
    "\n",
    "Les correspondances secrètes de Jules César employaient un procédé simple de chiffrement par décalage. Par exemple dans le tableau ci-dessous, **\"abcd\"** sera codé en **\"fghi\"** : le décalage est $5$.\n",
    "<table style=\"font-weight:bold;\">\n",
    "  <tr>\n",
    "    <td style=\"background-color: lightgrey;\">Lettre claire</td>\n",
    "    <td>a</td> <td>b</td> <td>c</td> <td>d</td> <td>e</td> <td>f</td>\n",
    "    <td>g</td> <td>h</td> <td>i</td> <td>j</td> <td>k</td> <td>l</td>\n",
    "    <td>m</td> <td>n</td> <td>o</td> <td>p</td> <td>q</td> <td>r</td>\n",
    "    <td>s</td> <td>t</td> <td>u</td> <td>v</td> <td>w</td> <td>x</td>\n",
    "    <td>y</td> <td>z</td>\n",
    "  </tr>\n",
    "  <tr>\n",
    "    <td style=\"background-color: lightgrey;\">Lettre codée</td>\n",
    "    <td>f</td>\n",
    "    <td>g</td> <td>h</td> <td>i</td> <td>j</td> <td>k</td> <td>l</td>\n",
    "    <td>m</td> <td>n</td> <td>o</td> <td>p</td> <td>q</td> <td>r</td>\n",
    "    <td>s</td> <td>t</td> <td>u</td> <td>v</td> <td>w</td> <td>x</td>\n",
    "    <td>y</td> <td>z</td>\n",
    "    <td>a</td> <td>b</td> <td>c</td> <td>d</td> <td>e</td> \n",
    "  </tr>\n",
    "</table>\n",
    "\n",
    "\n",
    "**Remarque :** dans les communications numériques, il est indispensable de sécuriser les échanges. Ceci se fait en partie en utilisant des protocoles de chiffrement."
   ]
  }
 ],
 "metadata": {
  "kernelspec": {
   "display_name": "Python 3",
   "language": "python",
   "name": "python3"
  },
  "language_info": {
   "codemirror_mode": {
    "name": "ipython",
    "version": 3
   },
   "file_extension": ".py",
   "mimetype": "text/x-python",
   "name": "python",
   "nbconvert_exporter": "python",
   "pygments_lexer": "ipython3",
   "version": "3.4.3"
  }
 },
 "nbformat": 4,
 "nbformat_minor": 0
}
