{
 "cells": [
  {
   "cell_type": "markdown",
   "metadata": {
    "collapsed": true
   },
   "source": [
    "Carré de Polybe\n",
    "========\n",
    "\n",
    "Réouvrir la page principale\n",
    "--------------------------\n",
    "\n",
    "[Cliquer ici](../main.ipynb)\n",
    "\n",
    "\n",
    "\n",
    "Présentation de ce codage\n",
    "----------------------------\n",
    "\n",
    "L'historien grec Polybe a proposé vers 150 av. J.-C. le carré suivant pour coder des textes.\n",
    "\n",
    "\n",
    "         1 | 2 | 3 | 4   | 5\n",
    "    ------------------------\n",
    "    1 || a | b | c | d   | e\n",
    "    2 || f | g | h | i,j | k\n",
    "    3 || l | m | n | o   | p\n",
    "    4 || q | r | s | t   | u\n",
    "    5 || v | w | x | y   | z\n",
    "\n",
    "\n",
    "Le code d'une lettre s'obtient en concanténant ses coordonnées dans le carré. Par exemple, \"isn\" aura pour code `423433`.\n",
    "\n",
    "\n",
    "En Français, on utilise de préférence le tableau suivant où se sont le \"v\" et le \"w\" qui sont regroupés dans la même case. Dans ce cas, \"isn\" est codé par `424443`.\n",
    "\n",
    "         1 | 2   | 3 | 4 | 5\n",
    "    ------------------------\n",
    "    1 || a | b   | c | d | e\n",
    "    2 || f | g   | h | i | j\n",
    "    3 || k | l   | m | n | o \n",
    "    4 || p | q   | r | s | t \n",
    "    5 || u | v,w | x | y | z \n",
    "\n",
    "\n",
    "À vous de jouer : coder un texte \"à la Polybe\"\n",
    "-------------------------------------------\n",
    "\n",
    "Faire un programme qui donne le code de Polybe, version française, d'un texte ne contenant que des lettres minuscules non accentuées et des espaces, ces derniers étant codés par $00$. "
   ]
  },
  {
   "cell_type": "code",
   "execution_count": 1,
   "metadata": {
    "collapsed": false
   },
   "outputs": [],
   "source": [
    "texte = \"les velibs de polybe\"\n",
    "\n",
    "\n",
    "# ----------------------- #\n",
    "# -- À VOUS DE JOUER ! -- #\n",
    "# ----------------------- #\n",
    "\n",
    "alphabet = \"abcdefghijklmnopqrstuvwxyz\"\n"
   ]
  },
  {
   "cell_type": "markdown",
   "metadata": {},
   "source": [
    "Pour les plus rapides : décoder un texte \"à la Polybe\"\n",
    "---------------------------------------------------\n",
    "\n",
    "La variable `texte_code` est le code d'un texte chiffré via le code de Polybe, version française. Nous savons que le codeur a utilisé $00$ pour les espaces et que le texte initial ne contient que des lettres minuscules non accentuées et des espaces, donc aucun caractère spécial du type point, apostrophe, guillemet ouvrant... etc."
   ]
  },
  {
   "cell_type": "code",
   "execution_count": 1,
   "metadata": {
    "collapsed": true
   },
   "outputs": [],
   "source": [
    "texte_code = 5451355451002142514300415131534151002134112553 \n",
    "\n",
    "\n",
    "# ----------------------- #\n",
    "# -- À VOUS DE JOUER ! -- #\n",
    "# ----------------------- #\n"
   ]
  }
 ],
 "metadata": {
  "kernelspec": {
   "display_name": "Python 3",
   "language": "python",
   "name": "python3"
  },
  "language_info": {
   "codemirror_mode": {
    "name": "ipython",
    "version": 3
   },
   "file_extension": ".py",
   "mimetype": "text/x-python",
   "name": "python",
   "nbconvert_exporter": "python",
   "pygments_lexer": "ipython3",
   "version": "3.4.3"
  }
 },
 "nbformat": 4,
 "nbformat_minor": 0
}
