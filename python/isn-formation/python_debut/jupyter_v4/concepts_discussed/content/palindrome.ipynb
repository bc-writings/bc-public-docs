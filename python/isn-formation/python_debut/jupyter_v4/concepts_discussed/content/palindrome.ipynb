{
 "cells": [
  {
   "cell_type": "markdown",
   "metadata": {},
   "source": [
    "Palindromes\n",
    "======\n",
    "\n",
    "Réouvrir la page principale\n",
    "--------------------------\n",
    "\n",
    "[Cliquer ici](../main.ipynb)\n",
    "\n",
    "\n",
    "Définition\n",
    "---------\n",
    "\n",
    "On appelle **\"palindrome\"** tout mot ou texte pouvant se lire indifféremment de gauche à droite ou de droite à gauche."
   ]
  }
 ],
 "metadata": {
  "kernelspec": {
   "display_name": "Python 3",
   "language": "python",
   "name": "python3"
  },
  "language_info": {
   "codemirror_mode": {
    "name": "ipython",
    "version": 3
   },
   "file_extension": ".py",
   "mimetype": "text/x-python",
   "name": "python",
   "nbconvert_exporter": "python",
   "pygments_lexer": "ipython3",
   "version": "3.4.3"
  }
 },
 "nbformat": 4,
 "nbformat_minor": 0
}
