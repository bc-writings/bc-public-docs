{
 "cells": [
  {
   "cell_type": "markdown",
   "metadata": {},
   "source": [
    "Premiers pas avec Python - Concepts proposés\n",
    "========================\n",
    "\n",
    "Afin de bien nous concentrer sur la programmation le jour de la formation, nous vous donnons juste les concepts qui seront étudiées sans exercice de programmation.\n",
    "\n",
    "\n",
    "Pour préparer le jour de la formation\n",
    "-----------------------------------\n",
    "\n",
    "1. [Un pendu pour se rassurer](content/pendu.ipynb)\n",
    "1. [Codes correcteurs](content/code_correcteur.ipynb)  \n",
    "1. [Palindromes](content/palindrome.ipynb)             \n",
    "1. [Chiffrement de César](content/cesar.ipynb)         \n",
    "1. [Soundex](content/soundex.ipynb)                    "
   ]
  }
 ],
 "metadata": {
  "kernelspec": {
   "display_name": "Python 3",
   "language": "python",
   "name": "python3"
  },
  "language_info": {
   "codemirror_mode": {
    "name": "ipython",
    "version": 3
   },
   "file_extension": ".py",
   "mimetype": "text/x-python",
   "name": "python",
   "nbconvert_exporter": "python",
   "pygments_lexer": "ipython3",
   "version": "3.4.3"
  }
 },
 "nbformat": 4,
 "nbformat_minor": 0
}
