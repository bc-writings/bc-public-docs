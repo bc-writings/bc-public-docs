{
 "cells": [
  {
   "cell_type": "markdown",
   "metadata": {
    "collapsed": true
   },
   "source": [
    "Chiffrement de Vigenère\n",
    "============\n",
    "\n",
    "\n",
    "Réouvrir la page principale\n",
    "--------------------------\n",
    "\n",
    "[Cliquer ici](../main.ipynb)\n",
    "\n",
    "\n",
    "\n",
    "Présentation de ce chiffrement\n",
    "----------------------------\n",
    "\n",
    "Le code de Vigenère, en référence au diplomate du XVI-ième siècle Blaise de Vigenère qui le décrit en 1586, est un système de chiffrement utilisant une clé et le tableau de correspondance suivant où chaque ligne peut être vue comme un chiffrement de César.\n",
    "\n",
    "        |a|b|c|d|e|f|g|h|i|j|k|l|m|n|o|p|q|r|s|t|u|v|w|x|y|z\n",
    "    ========================================================\n",
    "    a ->|a|b|c|d|e|f|g|h|i|j|k|l|m|n|o|p|q|r|s|t|u|v|w|x|y|z\n",
    "    b ->|b|c|d|e|f|g|h|i|j|k|l|m|n|o|p|q|r|s|t|u|v|w|x|y|z|a\n",
    "    c ->|c|d|e|f|g|h|i|j|k|l|m|n|o|p|q|r|s|t|u|v|w|x|y|z|a|b\n",
    "    d ->|d|e|f|g|h|i|j|k|l|m|n|o|p|q|r|s|t|u|v|w|x|y|z|a|b|c\n",
    "    e ->|e|f|g|h|i|j|k|l|m|n|o|p|q|r|s|t|u|v|w|x|y|z|a|b|c|d\n",
    "    f ->|f|g|h|i|j|k|l|m|n|o|p|q|r|s|t|u|v|w|x|y|z|a|b|c|d|e\n",
    "    g ->|g|h|i|j|k|l|m|n|o|p|q|r|s|t|u|v|w|x|y|z|a|b|c|d|e|f\n",
    "    h ->|h|i|j|k|l|m|n|o|p|q|r|s|t|u|v|w|x|y|z|a|b|c|d|e|f|g\n",
    "    i ->|i|j|k|l|m|n|o|p|q|r|s|t|u|v|w|x|y|z|a|b|c|d|e|f|g|h\n",
    "    j ->|j|k|l|m|n|o|p|q|r|s|t|u|v|w|x|y|z|a|b|c|d|e|f|g|h|i\n",
    "    k ->|k|l|m|n|o|p|q|r|s|t|u|v|w|x|y|z|a|b|c|d|e|f|g|h|i|j\n",
    "    l ->|l|m|n|o|p|q|r|s|t|u|v|w|x|y|z|a|b|c|d|e|f|g|h|i|j|k\n",
    "    m ->|m|n|o|p|q|r|s|t|u|v|w|x|y|z|a|b|c|d|e|f|g|h|i|j|k|l\n",
    "    n ->|n|o|p|q|r|s|t|u|v|w|x|y|z|a|b|c|d|e|f|g|h|i|j|k|l|m\n",
    "    o ->|o|p|q|r|s|t|u|v|w|x|y|z|a|b|c|d|e|f|g|h|i|j|k|l|m|n\n",
    "    p ->|p|q|r|s|t|u|v|w|x|y|z|a|b|c|d|e|f|g|h|i|j|k|l|m|n|o\n",
    "    q ->|q|r|s|t|u|v|w|x|y|z|a|b|c|d|e|f|g|h|i|j|k|l|m|n|o|p\n",
    "    r ->|r|s|t|u|v|w|x|y|z|a|b|c|d|e|f|g|h|i|j|k|l|m|n|o|p|q\n",
    "    s ->|s|t|u|v|w|x|y|z|a|b|c|d|e|f|g|h|i|j|k|l|m|n|o|p|q|r\n",
    "    t ->|t|u|v|w|x|y|z|a|b|c|d|e|f|g|h|i|j|k|l|m|n|o|p|q|r|s\n",
    "    u ->|u|v|w|x|y|z|a|b|c|d|e|f|g|h|i|j|k|l|m|n|o|p|q|r|s|t\n",
    "    v ->|v|w|x|y|z|a|b|c|d|e|f|g|h|i|j|k|l|m|n|o|p|q|r|s|t|u\n",
    "    w ->|w|x|y|z|a|b|c|d|e|f|g|h|i|j|k|l|m|n|o|p|q|r|s|t|u|v\n",
    "    x ->|x|y|z|a|b|c|d|e|f|g|h|i|j|k|l|m|n|o|p|q|r|s|t|u|v|w\n",
    "    y ->|y|z|a|b|c|d|e|f|g|h|i|j|k|l|m|n|o|p|q|r|s|t|u|v|w|x\n",
    "    z ->|z|a|b|c|d|e|f|g|h|i|j|k|l|m|n|o|p|q|r|s|t|u|v|w|x|y\n",
    "\n",
    "Voici la méthode à employer.\n",
    "\n",
    "1. Choisir une clé qui peut être soit un mot, soit une phrase ne contenant que des lettres minuscules non accentuées sans aucun caractère spécial tel qu'un espace, un point... etc. Prenons par exemple, \"lebeautemps\".\n",
    "\n",
    "1. On lit lettre par lettre et en parallèle le texte à coder et la clé. Si on arrive à la fin de la clé, on recommence à son départ. La lettre de la clé permet de coder la lettre du texte via le tableau de Vigenère. Par exemple, si le texte à coder est \"c est le moment de tester\", on obtient ce qui suit où les espaces sont juste là pour facilités la lecture.\n",
    "\n",
    "        Texte en clair | c est le moment de tester\n",
    "        Clef répétée   | l ebe au tempsl eb eautemps\n",
    "        Texte codé     | n itx ly fsytfe hf xemmid \n",
    "    \n",
    "    Le \"c\" est codé en \"n\" d'après la ligne nommée \"l\", le \"e\" en \"i\" d'après la ligne nommée \"e\"... etc.\n",
    "\n",
    "\n",
    "\n",
    "À vous de jouer : crypter et décrypter quand on connaît la clé\n",
    "----------------------------------------------------------\n",
    "\n",
    "Voici ce que vous devez faire dans le programme ci-après.\n",
    "\n",
    "1. Vous devez commencer par construire le tableau de Vigenère sous forme d'un dictionnaire `table_vigenere` dont les clés seront les lettres nommant les lignes, et les valeurs seront des dictionnaires similaires à ceux utilisés pour le chiffrement de César. L'idée est de pouvoir utiliser `table_vigenere[\"l\"][\"c\"]` pour obtenir la valeur `\"n\"` qui traduit le fait que la ligne nommée \"l\" code le \"c\" en \"n\". \n",
    "\n",
    "1. Utilisez ensuite le dictionnaire à deux niveaux `table_vigenere` pour coder le texte contenu dans la variable `texte` en utilisant la clé donné par la variable `clef`.\n",
    "\n",
    "1. Pour finir, décoder le texte codé. Ceci permet au passage de vérifier que le programme ne fait pas n'importe quoi."
   ]
  },
  {
   "cell_type": "code",
   "execution_count": 1,
   "metadata": {
    "collapsed": false
   },
   "outputs": [
    {
     "name": "stdout",
     "output_type": "stream",
     "text": [
      "cestlemomentdetester\n"
     ]
    }
   ],
   "source": [
    "# ----------------------- #\n",
    "# -- À VOUS DE JOUER ! -- #\n",
    "# ----------------------- #\n",
    "\n",
    "alphabet = \"abcdefghijklmnopqrstuvwxyz\"\n",
    "\n",
    "table_vigenere = {}\n",
    "\n",
    "\n",
    "# ---------- #\n",
    "# -- TEST -- #\n",
    "# ---------- #\n",
    "\n",
    "clef = \"lebeautemps\"\n",
    "\n",
    "texte = \"c est le moment de tester\"\n",
    "texte = texte.replace(\" \", \"\")\n",
    "\n",
    "print(texte)"
   ]
  },
  {
   "cell_type": "markdown",
   "metadata": {},
   "source": [
    "Pour les plus rapides : une première étape pour casser un code de Vigenère \n",
    "----------------------------------------------------------------------\n",
    "\n",
    "Le décodage complet est compliqué à mener sans une étude théorique préalable. Il existe une méthode statistique mais nous ne l'aborderons pas dans ce document. Ceci étant dit, cette méthode s'appuie sur la connaisance de la taille de la clé.\n",
    "Tout le problème consiste donc à trouver la taille de la clé. Friedrich Kasiski publie en 1863 une méthode efficace pour faire cela, c'est ce que l'on appelle aujourd'hui le test de Kasiski. Considérons le texte \"messager tres mesquin mesopotamien\" que l'on code en utilisant la clé \"abcd\" *(nous reprenons l'exemple proposé dans [cette page](http://fr.wikipedia.org/wiki/Cryptanalyse_du_chiffre_de_Vigenère))*. On obtient ce qui suit.\n",
    "\n",
    "    Texte en clair | [mes]sager tres [mes]quin [mes]opotamien\n",
    "    Clef répétée   |  abc dabcd abcd  abc dabc  dab cdabcdabc\n",
    "    Texte codé     | [mfu]vahgu tsgv [mfu]tujp [pet]qsoucpifp\n",
    "                      ^^^             ^^^       ^^^  \n",
    "                      \n",
    "Le texte à coder contient plusieurs fois le trigramme \"mes\" qui est codé deux fois en \"mfu\", et une seule fois en \"pet\". Ce sont ces séquences codées répétées qu'il faut exploiter car elles peuvent indiquer deux caractéristiques.\n",
    "\n",
    "1. Soit la même séquence de lettres du texte clair a été chiffrée avec la même partie de la clef.\n",
    "\n",
    "1. Soit deux suites de lettres différentes dans le texte clair auraient par pure coïncidence engendré la même suite dans le texte chiffré. Ceci est faiblement probable.\n",
    "\n",
    "\n",
    "L'idée consiste donc à repérer des répétitions de $n$ lettres dans le code en faisant l'hypothèse que ces répétitions ne sont pas dues au hasard. On obtient ainsi des distances séparant ces répétitions, des distances qui sont alors par hypothèse des multiples de la longeur de la clé. La longueur de la clé sera alors un diviseur commun de ces distances, c'est à dire un diviseur du PGCD de ces distances, pour peu que les répétitions repérées ne soient pas dues au hasard. \n",
    "\n",
    "\n",
    "**Note :** voici comment calculer facilement le PGCD de deux naturels avec Python 3."
   ]
  },
  {
   "cell_type": "code",
   "execution_count": 2,
   "metadata": {
    "collapsed": false
   },
   "outputs": [
    {
     "name": "stdout",
     "output_type": "stream",
     "text": [
      "10\n"
     ]
    }
   ],
   "source": [
    "from fractions import gcd\n",
    "\n",
    "print(gcd(30, 70))"
   ]
  },
  {
   "cell_type": "markdown",
   "metadata": {},
   "source": [
    "Faire un programme qui tente de trouver des longeurs probables de la clé utilisée pour obtenir le texte codé ci-dessous. Le texte initial ne contenait que des lettres minuscules non accentuées."
   ]
  },
  {
   "cell_type": "code",
   "execution_count": 3,
   "metadata": {
    "collapsed": false
   },
   "outputs": [],
   "source": [
    "from fractions import gcd\n",
    "\n",
    "texte_code = \"\"\"\n",
    "ctoojesldmhmbkietaimucbjzpavueumqxppivovbxvkkrpkcgumixrlroqqjahkvtpz\n",
    "bvptcmleuyirdiwyzltaimulslrmxstiowprveijwrocsyfnelzikmottocazsmmixfr\n",
    "spvejzsjvsvbmvsmgrliupbhpvbkiuclmhvkozzocjtetawwleiymwqwiyjetsmrwwmg\n",
    "etevcvdmzgrppyqwmirucehjmrumbvioupbebdsiqealizjlsjvcduvejaggectzqpfb\n",
    "ijzaxamrdwfkrlpnmqvzszvuijwqnmagztglatpcfrvgglkiutvksrtbbysvshveikwv\n",
    "bbwrtocucxvvskoihamrdmhxvsbvczfustketlvgpzszfuiqmyomwrrcrvutbobgcecc\n",
    "wcflsliacjmppcwyrdwlueslsmiivuirbtojzeillixwfsjpjpatfvrgetescwjmixja\n",
    "cumitqzbfypnmeqwixjocjwqqbsvrrrvcvbvhkeppybmdczovrahtpfuomeetateiwzr\n",
    "rnslqpemjoettuayjbsgmicnbuvihxvaczaidzszrigllyecqjvntcmvtkvgigtxcmmk\n",
    "ctjegcinvaearlptwvulsivstporfcfkkdtzwrgqzyzlkpamuifudepbksvzgjlnttqw\n",
    "tqctuieswqbbwwlesllivfotjeiptcsmhulrchtssaeazlnmcxowasvstjziuiwxvdpt\n",
    "jetaojvyglaxbvhzioxzirtxstuacakitlsaostqwysawrcuikmwmqjxvsiyimuibzue\n",
    "rygtuwuxrpwpmiumbziatuksoboikaklkhfaqxppivtshcsyvnupvlfvfozixxcmbdoo\n",
    "kbthcgpcdjvsipuiqwixcuxsmjjbgktrtaimsmrkjaroiqczsocfjamruzszvmezyyft\n",
    "eavptbasmlozvtblvevvsbzeiymwqmikoebwtejzsocmdbzyulittacjmvemzgxognmw\n",
    "bbcssetzbemmurzstzimobszzecumhvuctk\n",
    "\"\"\"\n",
    "\n",
    "# On nettoie les espaces initaux et finaux inutiles.\n",
    "texte_code = texte_code.strip()\n",
    "\n",
    "# On remplace les retours à la ligne par des espaces.\n",
    "texte_code = texte_code.replace(\"\\n\", \" \")\n",
    "\n",
    "\n",
    "# ----------------------- #\n",
    "# -- À VOUS DE JOUER ! -- #\n",
    "# ----------------------- #\n"
   ]
  }
 ],
 "metadata": {
  "kernelspec": {
   "display_name": "Python 3",
   "language": "python",
   "name": "python3"
  },
  "language_info": {
   "codemirror_mode": {
    "name": "ipython",
    "version": 3
   },
   "file_extension": ".py",
   "mimetype": "text/x-python",
   "name": "python",
   "nbconvert_exporter": "python",
   "pygments_lexer": "ipython3",
   "version": "3.4.3"
  }
 },
 "nbformat": 4,
 "nbformat_minor": 0
}
