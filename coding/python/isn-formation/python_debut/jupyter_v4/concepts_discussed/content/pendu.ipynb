{
 "cells": [
  {
   "cell_type": "markdown",
   "metadata": {
    "collapsed": true
   },
   "source": [
    "Un pendu pour se rassurer\n",
    "=============\n",
    "\n",
    "Réouvrir la page principale\n",
    "--------------------------\n",
    "\n",
    "[Cliquer ici](../main.ipynb)\n",
    "\n",
    "\n",
    "Rappel des règles du jeu du pendu\n",
    "-------------------------------\n",
    "\n",
    "Dans ce jeu, on doit deviner un mot. On dispose pour cela d'un nombre fini d'essais pour proposer des lettres qui seraient contenues dans le mot à deviner. Si l'on trouve une lettre, on peut alors proposer une réponse."
   ]
  }
 ],
 "metadata": {
  "kernelspec": {
   "display_name": "Python 3",
   "language": "python",
   "name": "python3"
  },
  "language_info": {
   "codemirror_mode": {
    "name": "ipython",
    "version": 3
   },
   "file_extension": ".py",
   "mimetype": "text/x-python",
   "name": "python",
   "nbconvert_exporter": "python",
   "pygments_lexer": "ipython3",
   "version": "3.4.3"
  }
 },
 "nbformat": 4,
 "nbformat_minor": 0
}
