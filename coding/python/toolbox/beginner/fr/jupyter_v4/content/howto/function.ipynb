{
 "cells": [
  {
   "cell_type": "markdown",
   "metadata": {},
   "source": [
    "Organiser son code - Les fonctions\n",
    "==================================\n",
    "\n",
    "Scinder son code en petits bouts\n",
    "--------------------------------\n",
    "\n",
    "Organiser un code est une tache importante, et pas toujours simple. L'une des techniques consistent à définir des fonctions qui agissent de façon précise sur des arguments donnés. Une fonction peut se définir comme suit (nous ne faisons qu'effleurer les choses ici)."
   ]
  },
  {
   "cell_type": "code",
   "execution_count": 38,
   "metadata": {
    "collapsed": false,
    "slideshow": {
     "slide_type": "slide"
    }
   },
   "outputs": [
    {
     "name": "stdout",
     "output_type": "stream",
     "text": [
      "Carré de 2 : 4\n",
      "Cube de 5  : 125\n"
     ]
    }
   ],
   "source": [
    "def puissance(x, n):\n",
    "    return x**n\n",
    "\n",
    "def carre(x):\n",
    "    return puissance(x, 2)\n",
    "\n",
    "def cube(x):\n",
    "    return puissance(x, 3)\n",
    "\n",
    "print(\"Carré de 2 :\", carre(2))\n",
    "print(\"Cube de 5  :\", cube(5))"
   ]
  },
  {
   "cell_type": "markdown",
   "metadata": {},
   "source": [
    "Indentation, attention danger !\n",
    "-------------------------------\n",
    "\n",
    "L'indentation est importante comme le montre le code suivant où la fonction `cube_test` n'existe qu'au sein de la fonction `carre_test`. Notez au passage la possibilité de définir des fonctions dans le code d'une fonction, une technique qui a des applications très concrètes via un outil très puissant que sont les décorateurs Python (ceci ne sera pas du tout abordé dans ce document)."
   ]
  },
  {
   "cell_type": "code",
   "execution_count": 39,
   "metadata": {
    "collapsed": false
   },
   "outputs": [
    {
     "name": "stdout",
     "output_type": "stream",
     "text": [
      "Carré de 2 : 4\n"
     ]
    },
    {
     "ename": "NameError",
     "evalue": "name 'cube_test' is not defined",
     "output_type": "error",
     "traceback": [
      "\u001b[0;31m---------------------------------------------------------------------------\u001b[0m",
      "\u001b[0;31mNameError\u001b[0m                                 Traceback (most recent call last)",
      "\u001b[0;32m<ipython-input-39-7ef84e534a61>\u001b[0m in \u001b[0;36m<module>\u001b[0;34m()\u001b[0m\n\u001b[1;32m      9\u001b[0m \u001b[0;34m\u001b[0m\u001b[0m\n\u001b[1;32m     10\u001b[0m \u001b[0;31m# Fonction cube_test inconnue en dehors de carre_test.\u001b[0m\u001b[0;34m\u001b[0m\u001b[0;34m\u001b[0m\u001b[0m\n\u001b[0;32m---> 11\u001b[0;31m \u001b[0mprint\u001b[0m\u001b[0;34m(\u001b[0m\u001b[0;34m\"Cube de 5  :\"\u001b[0m\u001b[0;34m,\u001b[0m \u001b[0mcube_test\u001b[0m\u001b[0;34m(\u001b[0m\u001b[0;36m5\u001b[0m\u001b[0;34m)\u001b[0m\u001b[0;34m)\u001b[0m\u001b[0;34m\u001b[0m\u001b[0m\n\u001b[0m",
      "\u001b[0;31mNameError\u001b[0m: name 'cube_test' is not defined"
     ]
    }
   ],
   "source": [
    "def carre_test(x):\n",
    "    def cube_test(x):\n",
    "        return x**3\n",
    "\n",
    "    return x**2\n",
    "\n",
    "# Fonction carre_test utilisable.\n",
    "print(\"Carré de 2 :\", carre_test(2))\n",
    "\n",
    "# Fonction cube_test inconnue en dehors de carre_test.\n",
    "print(\"Cube de 5  :\", cube_test(5))"
   ]
  },
  {
   "cell_type": "markdown",
   "metadata": {},
   "source": [
    "Portée des variables\n",
    "--------------------\n",
    "\n",
    "Il peut arriver que l'on souhaite modifier une variable au sein d'une fonction en gardant cette nouvelle valeur dans la suite de l'exécution du code (dans ce type de situation, la programmation orienté objet devient une technique très efficace, mais ceci ne sera pas abordé dans ce document). Commençons par un code ne fonctionnant pas."
   ]
  },
  {
   "cell_type": "code",
   "execution_count": 40,
   "metadata": {
    "collapsed": false
   },
   "outputs": [
    {
     "name": "stdout",
     "output_type": "stream",
     "text": [
      "Avant : x = 5\n"
     ]
    },
    {
     "ename": "UnboundLocalError",
     "evalue": "local variable 'x' referenced before assignment",
     "output_type": "error",
     "traceback": [
      "\u001b[0;31m---------------------------------------------------------------------------\u001b[0m",
      "\u001b[0;31mUnboundLocalError\u001b[0m                         Traceback (most recent call last)",
      "\u001b[0;32m<ipython-input-40-87436836dfd5>\u001b[0m in \u001b[0;36m<module>\u001b[0;34m()\u001b[0m\n\u001b[1;32m      5\u001b[0m \u001b[0;34m\u001b[0m\u001b[0m\n\u001b[1;32m      6\u001b[0m \u001b[0mprint\u001b[0m\u001b[0;34m(\u001b[0m\u001b[0;34m\"Avant : x =\"\u001b[0m\u001b[0;34m,\u001b[0m \u001b[0mx\u001b[0m\u001b[0;34m)\u001b[0m\u001b[0;34m\u001b[0m\u001b[0m\n\u001b[0;32m----> 7\u001b[0;31m \u001b[0mmodifie_x\u001b[0m\u001b[0;34m(\u001b[0m\u001b[0;34m)\u001b[0m\u001b[0;34m\u001b[0m\u001b[0m\n\u001b[0m\u001b[1;32m      8\u001b[0m \u001b[0mprint\u001b[0m\u001b[0;34m(\u001b[0m\u001b[0;34m\"Après : x =\"\u001b[0m\u001b[0;34m,\u001b[0m \u001b[0mx\u001b[0m\u001b[0;34m)\u001b[0m\u001b[0;34m\u001b[0m\u001b[0m\n",
      "\u001b[0;32m<ipython-input-40-87436836dfd5>\u001b[0m in \u001b[0;36mmodifie_x\u001b[0;34m()\u001b[0m\n\u001b[1;32m      2\u001b[0m \u001b[0;34m\u001b[0m\u001b[0m\n\u001b[1;32m      3\u001b[0m \u001b[0;32mdef\u001b[0m \u001b[0mmodifie_x\u001b[0m\u001b[0;34m(\u001b[0m\u001b[0;34m)\u001b[0m\u001b[0;34m:\u001b[0m\u001b[0;34m\u001b[0m\u001b[0m\n\u001b[0;32m----> 4\u001b[0;31m     \u001b[0mx\u001b[0m \u001b[0;34m=\u001b[0m \u001b[0mx\u001b[0m \u001b[0;34m+\u001b[0m \u001b[0;36m10\u001b[0m\u001b[0;34m\u001b[0m\u001b[0m\n\u001b[0m\u001b[1;32m      5\u001b[0m \u001b[0;34m\u001b[0m\u001b[0m\n\u001b[1;32m      6\u001b[0m \u001b[0mprint\u001b[0m\u001b[0;34m(\u001b[0m\u001b[0;34m\"Avant : x =\"\u001b[0m\u001b[0;34m,\u001b[0m \u001b[0mx\u001b[0m\u001b[0;34m)\u001b[0m\u001b[0;34m\u001b[0m\u001b[0m\n",
      "\u001b[0;31mUnboundLocalError\u001b[0m: local variable 'x' referenced before assignment"
     ]
    }
   ],
   "source": [
    "x = 5\n",
    "\n",
    "def modifie_x():\n",
    "    x = x + 10\n",
    "\n",
    "print(\"Avant : x =\", x)\n",
    "modifie_x()\n",
    "print(\"Après : x =\", x)"
   ]
  },
  {
   "cell_type": "markdown",
   "metadata": {},
   "source": [
    "Le message indique que la variable `x` est inconue du point de vue de la fonction `modifie_x`. Le mot clé `global` permet d'indiquer à une fonction une variable existant globalement. On obtient ainsi le code suivant qui fait ce qui est attendu."
   ]
  },
  {
   "cell_type": "code",
   "execution_count": 41,
   "metadata": {
    "collapsed": false
   },
   "outputs": [
    {
     "name": "stdout",
     "output_type": "stream",
     "text": [
      "Avant : x = 5\n",
      "Après : x = 15\n"
     ]
    }
   ],
   "source": [
    "x = 5\n",
    "\n",
    "def modifie_x_avec_global():\n",
    "    global x\n",
    "    x = x + 10\n",
    "\n",
    "print(\"Avant : x =\", x)\n",
    "modifie_x_avec_global()\n",
    "print(\"Après : x =\", x)"
   ]
  },
  {
   "cell_type": "markdown",
   "metadata": {},
   "source": [
    "Indiquons que pour des variables \"mémophages\" comme les listes, les ensembles et les dictionnaires, il peut y avoir des comportements bizarres comme le montre le code suivant (voir ce qui a été dit à propos de la copie des listes, des dictionnaires ou des ensembles)."
   ]
  },
  {
   "cell_type": "code",
   "execution_count": 42,
   "metadata": {
    "collapsed": false
   },
   "outputs": [
    {
     "name": "stdout",
     "output_type": "stream",
     "text": [
      "modifie_liste_accepte - Avant\n",
      "=============================\n",
      "liste = ['et un', 'et deux']\n",
      "\n",
      "modifie_liste_accepte - Après\n",
      "=============================\n",
      "liste = ['et un', 'et deux', 'et trois zéro']\n",
      "\n",
      "modifie_liste_problematique - Avant\n",
      "===================================\n",
      "liste = ['et un', 'et deux']\n"
     ]
    },
    {
     "ename": "UnboundLocalError",
     "evalue": "local variable 'liste' referenced before assignment",
     "output_type": "error",
     "traceback": [
      "\u001b[0;31m---------------------------------------------------------------------------\u001b[0m",
      "\u001b[0;31mUnboundLocalError\u001b[0m                         Traceback (most recent call last)",
      "\u001b[0;32m<ipython-input-42-0d911c15b216>\u001b[0m in \u001b[0;36m<module>\u001b[0;34m()\u001b[0m\n\u001b[1;32m     28\u001b[0m \u001b[0mprint\u001b[0m\u001b[0;34m(\u001b[0m\u001b[0;34m\"liste =\"\u001b[0m\u001b[0;34m,\u001b[0m \u001b[0mliste\u001b[0m\u001b[0;34m)\u001b[0m\u001b[0;34m\u001b[0m\u001b[0m\n\u001b[1;32m     29\u001b[0m \u001b[0;34m\u001b[0m\u001b[0m\n\u001b[0;32m---> 30\u001b[0;31m \u001b[0mmodifie_liste_problematique\u001b[0m\u001b[0;34m(\u001b[0m\u001b[0;34m)\u001b[0m\u001b[0;34m\u001b[0m\u001b[0m\n\u001b[0m\u001b[1;32m     31\u001b[0m \u001b[0mprint\u001b[0m\u001b[0;34m(\u001b[0m\u001b[0;34m\"\"\u001b[0m\u001b[0;34m)\u001b[0m\u001b[0;34m\u001b[0m\u001b[0m\n\u001b[1;32m     32\u001b[0m \u001b[0mprint\u001b[0m\u001b[0;34m(\u001b[0m\u001b[0;34m\"modifie_liste_problematique - Après\"\u001b[0m\u001b[0;34m)\u001b[0m\u001b[0;34m\u001b[0m\u001b[0m\n",
      "\u001b[0;32m<ipython-input-42-0d911c15b216>\u001b[0m in \u001b[0;36mmodifie_liste_problematique\u001b[0;34m()\u001b[0m\n\u001b[1;32m     21\u001b[0m \u001b[0;34m\u001b[0m\u001b[0m\n\u001b[1;32m     22\u001b[0m \u001b[0;32mdef\u001b[0m \u001b[0mmodifie_liste_problematique\u001b[0m\u001b[0;34m(\u001b[0m\u001b[0;34m)\u001b[0m\u001b[0;34m:\u001b[0m\u001b[0;34m\u001b[0m\u001b[0m\n\u001b[0;32m---> 23\u001b[0;31m     \u001b[0mliste\u001b[0m \u001b[0;34m=\u001b[0m \u001b[0mliste\u001b[0m \u001b[0;34m+\u001b[0m \u001b[0;34m[\u001b[0m\u001b[0;34m\"et trois zéro\"\u001b[0m\u001b[0;34m]\u001b[0m\u001b[0;34m\u001b[0m\u001b[0m\n\u001b[0m\u001b[1;32m     24\u001b[0m \u001b[0;34m\u001b[0m\u001b[0m\n\u001b[1;32m     25\u001b[0m \u001b[0mprint\u001b[0m\u001b[0;34m(\u001b[0m\u001b[0;34m\"\"\u001b[0m\u001b[0;34m)\u001b[0m\u001b[0;34m\u001b[0m\u001b[0m\n",
      "\u001b[0;31mUnboundLocalError\u001b[0m: local variable 'liste' referenced before assignment"
     ]
    }
   ],
   "source": [
    "# Une méthode qui marche.\n",
    "liste = [\"et un\", \"et deux\"]\n",
    "\n",
    "def modifie_liste_accepte():\n",
    "    liste.append(\"et trois zéro\")\n",
    "\n",
    "print(\"modifie_liste_accepte - Avant\")\n",
    "print(\"=============================\")\n",
    "print(\"liste =\", liste)\n",
    "\n",
    "modifie_liste_accepte()\n",
    "print(\"\")\n",
    "\n",
    "print(\"modifie_liste_accepte - Après\")\n",
    "print(\"=============================\")\n",
    "print(\"liste =\", liste)\n",
    "\n",
    "\n",
    "# Une méthode qui pose problème.\n",
    "liste = [\"et un\", \"et deux\"]\n",
    "\n",
    "def modifie_liste_problematique():\n",
    "    liste = liste + [\"et trois zéro\"]\n",
    "\n",
    "print(\"\")\n",
    "print(\"modifie_liste_problematique - Avant\")\n",
    "print(\"===================================\")\n",
    "print(\"liste =\", liste)\n",
    "\n",
    "modifie_liste_problematique()\n",
    "print(\"\")\n",
    "print(\"modifie_liste_problematique - Après\")\n",
    "print(\"===================================\")\n",
    "print(\"liste =\", liste)"
   ]
  },
  {
   "cell_type": "markdown",
   "metadata": {},
   "source": [
    "Expliquons rapidement le problème rencontré ici. Lorsque Python exécute le code, il rencontre `liste = ...` or il n'existe pas de variable `liste` du point de vue de la fonction. Ceci aboutit alors à l'erreur *\"local variable 'liste' referenced before assignment\"* soit *\"variable locale 'liste' referencé avant affectation\"*. Le code suivant montre que c'est bien l'exécution du code qui renvoie une erreur et non son analyse syntaxique."
   ]
  },
  {
   "cell_type": "code",
   "execution_count": 43,
   "metadata": {
    "collapsed": false
   },
   "outputs": [
    {
     "name": "stdout",
     "output_type": "stream",
     "text": [
      "Je suis affiché si le code est exécuté.\n"
     ]
    },
    {
     "ename": "UnboundLocalError",
     "evalue": "local variable 'liste' referenced before assignment",
     "output_type": "error",
     "traceback": [
      "\u001b[0;31m---------------------------------------------------------------------------\u001b[0m",
      "\u001b[0;31mUnboundLocalError\u001b[0m                         Traceback (most recent call last)",
      "\u001b[0;32m<ipython-input-43-982a4a6ce25f>\u001b[0m in \u001b[0;36m<module>\u001b[0;34m()\u001b[0m\n\u001b[1;32m      5\u001b[0m     \u001b[0mliste\u001b[0m \u001b[0;34m=\u001b[0m \u001b[0mliste\u001b[0m \u001b[0;34m+\u001b[0m \u001b[0;34m[\u001b[0m\u001b[0;34m\"et trois zéro\"\u001b[0m\u001b[0;34m]\u001b[0m\u001b[0;34m\u001b[0m\u001b[0m\n\u001b[1;32m      6\u001b[0m \u001b[0;34m\u001b[0m\u001b[0m\n\u001b[0;32m----> 7\u001b[0;31m \u001b[0mmodifie_liste_problematique\u001b[0m\u001b[0;34m(\u001b[0m\u001b[0;34m)\u001b[0m\u001b[0;34m\u001b[0m\u001b[0m\n\u001b[0m",
      "\u001b[0;32m<ipython-input-43-982a4a6ce25f>\u001b[0m in \u001b[0;36mmodifie_liste_problematique\u001b[0;34m()\u001b[0m\n\u001b[1;32m      3\u001b[0m \u001b[0;32mdef\u001b[0m \u001b[0mmodifie_liste_problematique\u001b[0m\u001b[0;34m(\u001b[0m\u001b[0;34m)\u001b[0m\u001b[0;34m:\u001b[0m\u001b[0;34m\u001b[0m\u001b[0m\n\u001b[1;32m      4\u001b[0m     \u001b[0mprint\u001b[0m\u001b[0;34m(\u001b[0m\u001b[0;34m\"Je suis affiché si le code est exécuté.\"\u001b[0m\u001b[0;34m)\u001b[0m\u001b[0;34m\u001b[0m\u001b[0m\n\u001b[0;32m----> 5\u001b[0;31m     \u001b[0mliste\u001b[0m \u001b[0;34m=\u001b[0m \u001b[0mliste\u001b[0m \u001b[0;34m+\u001b[0m \u001b[0;34m[\u001b[0m\u001b[0;34m\"et trois zéro\"\u001b[0m\u001b[0;34m]\u001b[0m\u001b[0;34m\u001b[0m\u001b[0m\n\u001b[0m\u001b[1;32m      6\u001b[0m \u001b[0;34m\u001b[0m\u001b[0m\n\u001b[1;32m      7\u001b[0m \u001b[0mmodifie_liste_problematique\u001b[0m\u001b[0;34m(\u001b[0m\u001b[0;34m)\u001b[0m\u001b[0;34m\u001b[0m\u001b[0m\n",
      "\u001b[0;31mUnboundLocalError\u001b[0m: local variable 'liste' referenced before assignment"
     ]
    }
   ],
   "source": [
    "liste = [\"et un\", \"et deux\"]\n",
    "\n",
    "def modifie_liste_problematique():\n",
    "    print(\"Je suis affiché si le code est exécuté.\")\n",
    "    liste = liste + [\"et trois zéro\"]\n",
    "\n",
    "modifie_liste_problematique()"
   ]
  },
  {
   "cell_type": "markdown",
   "metadata": {},
   "source": [
    "**Conseil :** utilisez `global` dès que vous souhaitez agir globalement, et sinon utilisez un nom *\"non global\"* pour une variable utilisée uniquement dans le code d'une fonction."
   ]
  }
 ],
 "metadata": {
  "kernelspec": {
   "display_name": "Python 3",
   "language": "python",
   "name": "python3"
  },
  "language_info": {
   "codemirror_mode": {
    "name": "ipython",
    "version": 3
   },
   "file_extension": ".py",
   "mimetype": "text/x-python",
   "name": "python",
   "nbconvert_exporter": "python",
   "pygments_lexer": "ipython3",
   "version": "3.4.3"
  }
 },
 "nbformat": 4,
 "nbformat_minor": 0
}
