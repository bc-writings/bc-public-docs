{
 "cells": [
  {
   "cell_type": "markdown",
   "metadata": {},
   "source": [
    "Tests liés aux textes, aux listes, aux ensembles et aux dictionnaires\n",
    "=====================================================================\n",
    "\n",
    "Cas des textes\n",
    "--------------\n",
    "\n",
    "Pour tester la présence d'un texte dans un autre, on procède comme suit où le mot \"in\" signifie \"dans\" en anglais. Dans ce type de test, les majuscules et les minuscules sont concisédérées comme différentes !"
   ]
  },
  {
   "cell_type": "code",
   "execution_count": 3,
   "metadata": {
    "collapsed": false
   },
   "outputs": [
    {
     "name": "stdout",
     "output_type": "stream",
     "text": [
      "var_texte a pour contenu :\n",
      "Testons un peu le cas d'un texte.\n",
      "\n",
      "Le texte \"a\" apparaît-il dans le contenu de var_texte ? True\n",
      "Le texte \"z\" apparaît-il dans le contenu de var_texte ? False\n",
      "\n",
      "Le texte \"cas\" apparaît-il dans le contenu de var_texte ?  True\n",
      "Le texte \"test\" apparaît-il dans le contenu de var_texte ? False\n",
      "Le texte \"Test\" apparaît-il dans le contenu de var_texte ? True\n"
     ]
    }
   ],
   "source": [
    "var_texte = \"Testons un peu le cas d'un texte.\"\n",
    "\n",
    "print('var_texte a pour contenu :')\n",
    "print(var_texte)\n",
    "\n",
    "a_dans_texte = \"a\" in var_texte   # a_dans_texte est de type booléen.\n",
    "z_dans_texte = \"z\" in var_texte\n",
    "\n",
    "print(\"\")\n",
    "print('Le texte \"a\" apparaît-il dans le contenu de var_texte ?', a_dans_texte)\n",
    "print('Le texte \"z\" apparaît-il dans le contenu de var_texte ?', z_dans_texte)\n",
    "\n",
    "cas_dans_texte  = \"cas\" in var_texte  \n",
    "test_dans_texte = \"test\" in var_texte\n",
    "Test_dans_texte = \"Test\" in var_texte\n",
    "\n",
    "print(\"\")\n",
    "print('Le texte \"cas\" apparaît-il dans le contenu de var_texte ? ', cas_dans_texte)\n",
    "print('Le texte \"test\" apparaît-il dans le contenu de var_texte ?', test_dans_texte)\n",
    "print('Le texte \"Test\" apparaît-il dans le contenu de var_texte ?', Test_dans_texte)"
   ]
  },
  {
   "cell_type": "markdown",
   "metadata": {},
   "source": [
    "Cas des listes\n",
    "--------------\n",
    "\n",
    "Ce qui suit est simple à comprendre car très similaire à ce qui a été proposé pour les chaînes de caractères."
   ]
  },
  {
   "cell_type": "code",
   "execution_count": 25,
   "metadata": {
    "collapsed": false
   },
   "outputs": [
    {
     "name": "stdout",
     "output_type": "stream",
     "text": [
      "Le texte \"2\" est-il dans la liste ? False\n",
      "L'entier 2 est-il dans la liste ?   True\n",
      "L'entier 17 est-il dans la liste ?  False\n"
     ]
    }
   ],
   "source": [
    "premiers = [2, 3, 5, 7, 11, 13]\n",
    "\n",
    "texte_deux_dans_premiers      = \"2\" in premiers\n",
    "entier_deux_dans_premiers     = 2 in premiers\n",
    "entier_dix_sept_dans_premiers = 17 in premiers\n",
    "\n",
    "print('Le texte \"2\" est-il dans la liste ?', texte_deux_dans_premiers)\n",
    "print(\"L'entier 2 est-il dans la liste ?  \", entier_deux_dans_premiers)\n",
    "print(\"L'entier 17 est-il dans la liste ? \", entier_dix_sept_dans_premiers)"
   ]
  },
  {
   "cell_type": "markdown",
   "metadata": {},
   "source": [
    "Cas des ensembles\n",
    "-----------------\n",
    "\n",
    "Pour commencer, rien de nouveau par rapport aux sections précédentes."
   ]
  },
  {
   "cell_type": "code",
   "execution_count": 26,
   "metadata": {
    "collapsed": false
   },
   "outputs": [
    {
     "name": "stdout",
     "output_type": "stream",
     "text": [
      "Le texte \"2\" est-il dans l'ensemble ? False\n",
      "L'entier 2 est-il dans l'ensemble ?   True\n",
      "L'entier 17 est-il dans l'ensemble ?  False\n"
     ]
    }
   ],
   "source": [
    "premiers = set([2, 3, 5, 7, 11, 13])\n",
    "\n",
    "texte_deux_dans_premiers      = \"2\" in premiers\n",
    "entier_deux_dans_premiers     = 2 in premiers\n",
    "entier_dix_sept_dans_premiers = 17 in premiers\n",
    "\n",
    "# Norez au passage l'utilisation de \\' à l'intérieur de\n",
    "# '...' pour pouvoir utiliser le caractère '.\n",
    "print('Le texte \"2\" est-il dans l\\'ensemble ?', texte_deux_dans_premiers)\n",
    "print(\"L'entier 2 est-il dans l'ensemble ?  \", entier_deux_dans_premiers)\n",
    "print(\"L'entier 17 est-il dans l'ensemble ? \", entier_dix_sept_dans_premiers)"
   ]
  },
  {
   "cell_type": "markdown",
   "metadata": {},
   "source": [
    "On peut aussi comparer des ensembles entre eux.\n",
    "Ci-dessous, nous avons juste montré l'emploi de `... <= ...` pour \"est inclus dans ou égal à\".\n",
    "Il est bien entendu aussi possible d'utiliser `... < ...` pour tester une inclusion stricte, ainsi que les écritures symétriques `... >= ...` et `... > ...` ."
   ]
  },
  {
   "cell_type": "code",
   "execution_count": 27,
   "metadata": {
    "collapsed": false
   },
   "outputs": [
    {
     "name": "stdout",
     "output_type": "stream",
     "text": [
      "L'ensemble ens_1 est-il inclus dans l'ensemble ens_1 ? True\n",
      "L'ensemble ens_2 est-il inclus dans l'ensemble ens_1 ? True\n",
      "L'ensemble ens_3 est-il inclus dans l'ensemble ens_1 ? False\n"
     ]
    }
   ],
   "source": [
    "ens_1 = set([1, 2, 3, 4])\n",
    "ens_2 = set([2, 4])\n",
    "ens_3 = set([1, 2, 7])\n",
    "\n",
    "ens_1_inclus_dans_ens_1 = ens_1 <= ens_1\n",
    "ens_2_inclus_dans_ens_1 = ens_2 <= ens_1\n",
    "ens_3_inclus_dans_ens_1 = ens_3 <= ens_1\n",
    "\n",
    "print(\"L'ensemble ens_1 est-il inclus dans l'ensemble ens_1 ?\", ens_1_inclus_dans_ens_1)\n",
    "print(\"L'ensemble ens_2 est-il inclus dans l'ensemble ens_1 ?\", ens_2_inclus_dans_ens_1)\n",
    "print(\"L'ensemble ens_3 est-il inclus dans l'ensemble ens_1 ?\", ens_3_inclus_dans_ens_1)"
   ]
  },
  {
   "cell_type": "markdown",
   "metadata": {},
   "source": [
    "Cas des dictionnaires\n",
    "---------------------\n",
    "\n",
    "Avec les dictionnaires, on peut tester s'ils \"contiennent\" une clé donnée."
   ]
  },
  {
   "cell_type": "code",
   "execution_count": 28,
   "metadata": {
    "collapsed": false
   },
   "outputs": [
    {
     "name": "stdout",
     "output_type": "stream",
     "text": [
      "dico contient-il la clé \"inspiration\" ? True\n",
      "dico contient-il la clé \"erreur\" ?      False\n"
     ]
    }
   ],
   "source": [
    "dico = {\"inspiration\": 0, \"automatisme\": 10**80}\n",
    "\n",
    "cle_inspiration_dans_dico = \"inspiration\" in dico\n",
    "cle_erreur_dans_dico      = \"erreur\" in dico\n",
    "\n",
    "print('dico contient-il la clé \"inspiration\" ?', cle_inspiration_dans_dico)\n",
    "print('dico contient-il la clé \"erreur\" ?     ', cle_erreur_dans_dico)"
   ]
  }
 ],
 "metadata": {
  "kernelspec": {
   "display_name": "Python 3",
   "language": "python",
   "name": "python3"
  },
  "language_info": {
   "codemirror_mode": {
    "name": "ipython",
    "version": 3
   },
   "file_extension": ".py",
   "mimetype": "text/x-python",
   "name": "python",
   "nbconvert_exporter": "python",
   "pygments_lexer": "ipython3",
   "version": "3.4.3"
  }
 },
 "nbformat": 4,
 "nbformat_minor": 0
}
