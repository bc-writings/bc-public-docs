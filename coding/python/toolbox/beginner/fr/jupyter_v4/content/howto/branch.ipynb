{
 "cells": [
  {
   "cell_type": "markdown",
   "metadata": {},
   "source": [
    "Agir si quelque chose est vérifiée\n",
    "==================================\n",
    "\n",
    "Si ... sinon si ... sinon ...\n",
    "-----------------------------\n",
    "\n",
    "Programmer c'est prendre des décisions en fonction d'un contexte donné. Dans l'exemple basique suivant, notez l'utilisation de l'indentation, ou du décalage, de quatre espaces qui sert à indiquer le bloc d'instructions à faire en cas de test validé."
   ]
  },
  {
   "cell_type": "code",
   "execution_count": 5,
   "metadata": {
    "collapsed": false,
    "slideshow": {
     "slide_type": "slide"
    }
   },
   "outputs": [
    {
     "name": "stdout",
     "output_type": "stream",
     "text": [
      "Votre choix entre 1, 2, et 3 ? 7\n",
      "Choix inconnu\n"
     ]
    }
   ],
   "source": [
    "# Nous souhaitons une réponse de type naturel.\n",
    "choix = int(input(\"Votre choix entre 1, 2, et 3 ? \"))\n",
    "\n",
    "if choix == 1:\n",
    "    print(\"Premier choix\")\n",
    "\n",
    "elif choix == 2:\n",
    "    print(\"Deuxième choix\")\n",
    "\n",
    "elif choix == 3:\n",
    "    print(\"Troisième choix\")\n",
    "\n",
    "else:\n",
    "    print(\"Choix inconnu\")"
   ]
  },
  {
   "cell_type": "markdown",
   "metadata": {},
   "source": [
    "Bien entendu, on peut utiliser juste les formes \"réduites\" `if ... else ...` , et aussi juste `if ...` si le contexte le demande (voir la section suivante).\n",
    "\n",
    "\n",
    "Indentation, attention danger !\n",
    "-------------------------------\n",
    "\n",
    "L'indentation est importante comme le montre le code suivant."
   ]
  },
  {
   "cell_type": "code",
   "execution_count": 6,
   "metadata": {
    "collapsed": false
   },
   "outputs": [
    {
     "name": "stdout",
     "output_type": "stream",
     "text": [
      "TOUT AU MÊME NIVEAU\n",
      "===================\n",
      "x > 2\n",
      "x <= 5\n",
      "\n",
      "DES INDENTATIONS DIFFÉRENTES\n",
      "============================\n"
     ]
    }
   ],
   "source": [
    "x = 5\n",
    "\n",
    "# Tout au même niveau.\n",
    "print(\"TOUT AU MÊME NIVEAU\")\n",
    "print(\"===================\")\n",
    "\n",
    "\n",
    "if x == 2:\n",
    "    print(\"x == 2\")\n",
    "\n",
    "if x > 2:\n",
    "    print(\"x > 2\")\n",
    "\n",
    "if x < 0:\n",
    "    print(\"x < 0\")\n",
    "\n",
    "if x <= 5:\n",
    "    print(\"x <= 5\")\n",
    "\n",
    "\n",
    "# Des indentations différentes.\n",
    "print(\"\")\n",
    "print(\"DES INDENTATIONS DIFFÉRENTES\")\n",
    "print(\"============================\")\n",
    "\n",
    "if x == 2:\n",
    "    print(\"x == 2\")\n",
    "\n",
    "    if x > 2:\n",
    "        print(\"x > 2\")\n",
    "\n",
    "if x < 0:\n",
    "    print(\"x < 0\")\n",
    "\n",
    "    if x <= 5:\n",
    "        print(\"x <= 5\")"
   ]
  }
 ],
 "metadata": {
  "kernelspec": {
   "display_name": "Python 3",
   "language": "python",
   "name": "python3"
  },
  "language_info": {
   "codemirror_mode": {
    "name": "ipython",
    "version": 3
   },
   "file_extension": ".py",
   "mimetype": "text/x-python",
   "name": "python",
   "nbconvert_exporter": "python",
   "pygments_lexer": "ipython3",
   "version": "3.4.3"
  }
 },
 "nbformat": 4,
 "nbformat_minor": 0
}
